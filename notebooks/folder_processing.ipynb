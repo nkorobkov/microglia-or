{
 "cells": [
  {
   "cell_type": "code",
   "execution_count": 6,
   "metadata": {},
   "outputs": [],
   "source": [
    "# jupyter-notebook V0_1_1.ipynb --port 8888 --ip 192.168.1.5\n",
    "\n",
    "import cv2\n",
    "import os\n",
    "import numpy as np\n",
    "from collections import Counter\n",
    "import itertools  \n",
    "from collections import defaultdict\n",
    "import time\n",
    "import numba as nb\n",
    "import copy\n",
    "from os import listdir, mkdir\n",
    "from os.path import isfile, isdir, join\n",
    "\n",
    "from components_container import ComponentsContainer\n",
    "\n",
    "%matplotlib inline"
   ]
  },
  {
   "cell_type": "code",
   "execution_count": 7,
   "metadata": {},
   "outputs": [],
   "source": [
    "# filter all noise using minimum size threshold\n",
    "BACKGROUND_INTENSITY_THRESHOLD = 20\n",
    "MIN_AXON_SIZE = 20\n",
    "\n",
    "# merging close components based on centroids and contour distance\n",
    "PREMERGE_CENTROIDS_DISTANCE_T  = 200\n",
    "PREMERGE_CONTOUR_DISTANCE_T = 15\n",
    "\n",
    "#splitting nucleus and axons based on size\n",
    "MIN_NUCLEUS_SIZE = 150\n",
    "\n",
    "#grouping possible axons to nucleus\n",
    "CENTROIDS_DISTANCE_T = 90\n",
    "CONTOUR_DISTANCE_T = 25\n",
    "\n",
    "LOADPATH = '../raw_pics'\n",
    "SAVEPATH = '../info'\n",
    "RECURSIVE = True"
   ]
  },
  {
   "cell_type": "code",
   "execution_count": 11,
   "metadata": {},
   "outputs": [],
   "source": [
    "def mirror_dir_for_save(loadpath):\n",
    "    try:\n",
    "        mkdir(loadpath.replace(LOADPATH, SAVEPATH))\n",
    "    except(OSError):\n",
    "        pass\n",
    "    \n",
    "def process_dir(loadpath):\n",
    "    mirror_dir_for_save(loadpath)\n",
    "    object_names_in_folder = listdir(loadpath)\n",
    "    print (\"start processing folder {} pics: {}\".format(loadpath, str(len(object_names_in_folder))))\n",
    "    for f in object_names_in_folder:\n",
    "        local_object = join(loadpath, f)\n",
    "\n",
    "        if isfile(local_object) and f[0] != '.':\n",
    "            process_pic(join(loadpath, f))\n",
    "            continue\n",
    "\n",
    "        if RECURSIVE and isdir(join(loadpath, f)):\n",
    "            process_dir(join(loadpath, f))\n",
    "            continue\n",
    "\n",
    "def process_pic(path):\n",
    "    starttime = time.time()\n",
    "    print(\"processing pic {} ... \".format(path), end = \"\")\n",
    "    img = cv2.imread(path)\n",
    "    gray = cv2.cvtColor(img, cv2.COLOR_BGR2GRAY)\n",
    "    ret, binary = cv2.threshold(gray, BACKGROUND_INTENSITY_THRESHOLD, 400, cv2.THRESH_BINARY)\n",
    "    container = ComponentsContainer(binary, MIN_AXON_SIZE)\n",
    "    container.merge_components_closer_than(PREMERGE_CENTROIDS_DISTANCE_T, PREMERGE_CONTOUR_DISTANCE_T)\n",
    "    container.recalc_edge_and_size_info()    \n",
    "    container.split_nucl_axon(MIN_NUCLEUS_SIZE)\n",
    "    container.add_hull_info_to_nucleus()\n",
    "    container.group_axons_to_nucleus(CENTROIDS_DISTANCE_T, CONTOUR_DISTANCE_T)\n",
    "    with open(path.replace(LOADPATH, SAVEPATH).replace(\".bmp\", \".txt\"), \"w\") as f:\n",
    "        write_info_from_container(container, f)\n",
    "    save_pic_from_container(container,path.replace(LOADPATH, SAVEPATH).replace(\".bmp\", \"_processed.png\"))\n",
    "    print('done in {} sec.'.format(time.time() - starttime))\n",
    "\n",
    "\n",
    "def write_info_from_container(container, f):\n",
    "    labs = sorted(container.nucleus_labs, key = lambda x: -container.components_index.get(x).size)\n",
    "    f.write(\"#, Size, HullSize, Perimeter\\n\")\n",
    "    i = 0\n",
    "    for nucl_lab in labs:\n",
    "        i +=1\n",
    "        nucl = container.components_index.get(nucl_lab)\n",
    "        f.write(\"{:2}, {:4}, {:4}, {:4}\\n\".format(i, nucl.size, nucl.hull_size, len(nucl.edge)))\n",
    "        \n",
    "def save_pic_from_container(container, savepath):\n",
    "    pic = container.get_nucl_and_axons_img()\n",
    "    cv2.imwrite(savepath,pic)"
   ]
  },
  {
   "cell_type": "code",
   "execution_count": 12,
   "metadata": {
    "scrolled": true
   },
   "outputs": [
    {
     "name": "stdout",
     "output_type": "stream",
     "text": [
      "start processing folder ../raw_pics pics: 5\n",
      "start processing folder ../raw_pics/.ipynb_checkpoints pics: 0\n",
      "start processing folder ../raw_pics/hippo pics: 6\n",
      "start processing folder ../raw_pics/hippo/int_56 pics: 21\n",
      "processing pic ../raw_pics/hippo/int_56/int_56_hippo_1.bmp ... done in 41.9159836769104 sec.\n",
      "processing pic ../raw_pics/hippo/int_56/int_56_hippo_10.bmp ... done in 81.00019812583923 sec.\n",
      "processing pic ../raw_pics/hippo/int_56/int_56_hippo_11.bmp ... done in 132.05097675323486 sec.\n",
      "processing pic ../raw_pics/hippo/int_56/int_56_hippo_12.bmp ... "
     ]
    },
    {
     "ename": "KeyboardInterrupt",
     "evalue": "",
     "output_type": "error",
     "traceback": [
      "\u001b[0;31m---------------------------------------------------------------------------\u001b[0m",
      "\u001b[0;31mKeyboardInterrupt\u001b[0m                         Traceback (most recent call last)",
      "\u001b[0;32m<ipython-input-12-1218d86df6ed>\u001b[0m in \u001b[0;36m<module>\u001b[0;34m()\u001b[0m\n\u001b[1;32m      1\u001b[0m \u001b[0;31m#LOADPATH = '../raw_pics/hippo/с4_6_73'\u001b[0m\u001b[0;34m\u001b[0m\u001b[0;34m\u001b[0m\u001b[0m\n\u001b[0;32m----> 2\u001b[0;31m \u001b[0mprocess_dir\u001b[0m\u001b[0;34m(\u001b[0m\u001b[0mLOADPATH\u001b[0m\u001b[0;34m)\u001b[0m\u001b[0;34m\u001b[0m\u001b[0m\n\u001b[0m",
      "\u001b[0;32m<ipython-input-11-3571a3a1e6f8>\u001b[0m in \u001b[0;36mprocess_dir\u001b[0;34m(loadpath)\u001b[0m\n\u001b[1;32m     17\u001b[0m \u001b[0;34m\u001b[0m\u001b[0m\n\u001b[1;32m     18\u001b[0m         \u001b[0;32mif\u001b[0m \u001b[0mRECURSIVE\u001b[0m \u001b[0;32mand\u001b[0m \u001b[0misdir\u001b[0m\u001b[0;34m(\u001b[0m\u001b[0mjoin\u001b[0m\u001b[0;34m(\u001b[0m\u001b[0mloadpath\u001b[0m\u001b[0;34m,\u001b[0m \u001b[0mf\u001b[0m\u001b[0;34m)\u001b[0m\u001b[0;34m)\u001b[0m\u001b[0;34m:\u001b[0m\u001b[0;34m\u001b[0m\u001b[0m\n\u001b[0;32m---> 19\u001b[0;31m             \u001b[0mprocess_dir\u001b[0m\u001b[0;34m(\u001b[0m\u001b[0mjoin\u001b[0m\u001b[0;34m(\u001b[0m\u001b[0mloadpath\u001b[0m\u001b[0;34m,\u001b[0m \u001b[0mf\u001b[0m\u001b[0;34m)\u001b[0m\u001b[0;34m)\u001b[0m\u001b[0;34m\u001b[0m\u001b[0m\n\u001b[0m\u001b[1;32m     20\u001b[0m             \u001b[0;32mcontinue\u001b[0m\u001b[0;34m\u001b[0m\u001b[0m\n\u001b[1;32m     21\u001b[0m \u001b[0;34m\u001b[0m\u001b[0m\n",
      "\u001b[0;32m<ipython-input-11-3571a3a1e6f8>\u001b[0m in \u001b[0;36mprocess_dir\u001b[0;34m(loadpath)\u001b[0m\n\u001b[1;32m     17\u001b[0m \u001b[0;34m\u001b[0m\u001b[0m\n\u001b[1;32m     18\u001b[0m         \u001b[0;32mif\u001b[0m \u001b[0mRECURSIVE\u001b[0m \u001b[0;32mand\u001b[0m \u001b[0misdir\u001b[0m\u001b[0;34m(\u001b[0m\u001b[0mjoin\u001b[0m\u001b[0;34m(\u001b[0m\u001b[0mloadpath\u001b[0m\u001b[0;34m,\u001b[0m \u001b[0mf\u001b[0m\u001b[0;34m)\u001b[0m\u001b[0;34m)\u001b[0m\u001b[0;34m:\u001b[0m\u001b[0;34m\u001b[0m\u001b[0m\n\u001b[0;32m---> 19\u001b[0;31m             \u001b[0mprocess_dir\u001b[0m\u001b[0;34m(\u001b[0m\u001b[0mjoin\u001b[0m\u001b[0;34m(\u001b[0m\u001b[0mloadpath\u001b[0m\u001b[0;34m,\u001b[0m \u001b[0mf\u001b[0m\u001b[0;34m)\u001b[0m\u001b[0;34m)\u001b[0m\u001b[0;34m\u001b[0m\u001b[0m\n\u001b[0m\u001b[1;32m     20\u001b[0m             \u001b[0;32mcontinue\u001b[0m\u001b[0;34m\u001b[0m\u001b[0m\n\u001b[1;32m     21\u001b[0m \u001b[0;34m\u001b[0m\u001b[0m\n",
      "\u001b[0;32m<ipython-input-11-3571a3a1e6f8>\u001b[0m in \u001b[0;36mprocess_dir\u001b[0;34m(loadpath)\u001b[0m\n\u001b[1;32m     13\u001b[0m \u001b[0;34m\u001b[0m\u001b[0m\n\u001b[1;32m     14\u001b[0m         \u001b[0;32mif\u001b[0m \u001b[0misfile\u001b[0m\u001b[0;34m(\u001b[0m\u001b[0mlocal_object\u001b[0m\u001b[0;34m)\u001b[0m \u001b[0;32mand\u001b[0m \u001b[0mf\u001b[0m\u001b[0;34m[\u001b[0m\u001b[0;36m0\u001b[0m\u001b[0;34m]\u001b[0m \u001b[0;34m!=\u001b[0m \u001b[0;34m'.'\u001b[0m\u001b[0;34m:\u001b[0m\u001b[0;34m\u001b[0m\u001b[0m\n\u001b[0;32m---> 15\u001b[0;31m             \u001b[0mprocess_pic\u001b[0m\u001b[0;34m(\u001b[0m\u001b[0mjoin\u001b[0m\u001b[0;34m(\u001b[0m\u001b[0mloadpath\u001b[0m\u001b[0;34m,\u001b[0m \u001b[0mf\u001b[0m\u001b[0;34m)\u001b[0m\u001b[0;34m)\u001b[0m\u001b[0;34m\u001b[0m\u001b[0m\n\u001b[0m\u001b[1;32m     16\u001b[0m             \u001b[0;32mcontinue\u001b[0m\u001b[0;34m\u001b[0m\u001b[0m\n\u001b[1;32m     17\u001b[0m \u001b[0;34m\u001b[0m\u001b[0m\n",
      "\u001b[0;32m<ipython-input-11-3571a3a1e6f8>\u001b[0m in \u001b[0;36mprocess_pic\u001b[0;34m(path)\u001b[0m\n\u001b[1;32m     27\u001b[0m     \u001b[0mret\u001b[0m\u001b[0;34m,\u001b[0m \u001b[0mbinary\u001b[0m \u001b[0;34m=\u001b[0m \u001b[0mcv2\u001b[0m\u001b[0;34m.\u001b[0m\u001b[0mthreshold\u001b[0m\u001b[0;34m(\u001b[0m\u001b[0mgray\u001b[0m\u001b[0;34m,\u001b[0m \u001b[0mBACKGROUND_INTENSITY_THRESHOLD\u001b[0m\u001b[0;34m,\u001b[0m \u001b[0;36m400\u001b[0m\u001b[0;34m,\u001b[0m \u001b[0mcv2\u001b[0m\u001b[0;34m.\u001b[0m\u001b[0mTHRESH_BINARY\u001b[0m\u001b[0;34m)\u001b[0m\u001b[0;34m\u001b[0m\u001b[0m\n\u001b[1;32m     28\u001b[0m     \u001b[0mcontainer\u001b[0m \u001b[0;34m=\u001b[0m \u001b[0mComponentsContainer\u001b[0m\u001b[0;34m(\u001b[0m\u001b[0mbinary\u001b[0m\u001b[0;34m,\u001b[0m \u001b[0mMIN_AXON_SIZE\u001b[0m\u001b[0;34m)\u001b[0m\u001b[0;34m\u001b[0m\u001b[0m\n\u001b[0;32m---> 29\u001b[0;31m     \u001b[0mcontainer\u001b[0m\u001b[0;34m.\u001b[0m\u001b[0mmerge_components_closer_than\u001b[0m\u001b[0;34m(\u001b[0m\u001b[0mPREMERGE_CENTROIDS_DISTANCE_T\u001b[0m\u001b[0;34m,\u001b[0m \u001b[0mPREMERGE_CONTOUR_DISTANCE_T\u001b[0m\u001b[0;34m)\u001b[0m\u001b[0;34m\u001b[0m\u001b[0m\n\u001b[0m\u001b[1;32m     30\u001b[0m     \u001b[0mcontainer\u001b[0m\u001b[0;34m.\u001b[0m\u001b[0mrecalc_edge_and_size_info\u001b[0m\u001b[0;34m(\u001b[0m\u001b[0;34m)\u001b[0m\u001b[0;34m\u001b[0m\u001b[0m\n\u001b[1;32m     31\u001b[0m     \u001b[0mcontainer\u001b[0m\u001b[0;34m.\u001b[0m\u001b[0msplit_nucl_axon\u001b[0m\u001b[0;34m(\u001b[0m\u001b[0mMIN_NUCLEUS_SIZE\u001b[0m\u001b[0;34m)\u001b[0m\u001b[0;34m\u001b[0m\u001b[0m\n",
      "\u001b[0;32m~/Code/Python/MashaBioOR/notebooks/components_container.py\u001b[0m in \u001b[0;36mis_close\u001b[0;34m(self, second_comp, centroid_t, contour_t)\u001b[0m\n\u001b[1;32m    295\u001b[0m     \u001b[0;32mdef\u001b[0m \u001b[0mis_close\u001b[0m\u001b[0;34m(\u001b[0m\u001b[0mself\u001b[0m\u001b[0;34m,\u001b[0m \u001b[0msecond_comp\u001b[0m\u001b[0;34m,\u001b[0m \u001b[0mcentroid_t\u001b[0m\u001b[0;34m,\u001b[0m \u001b[0mcontour_t\u001b[0m\u001b[0;34m)\u001b[0m\u001b[0;34m:\u001b[0m\u001b[0;34m\u001b[0m\u001b[0m\n\u001b[1;32m    296\u001b[0m         \u001b[0;32mif\u001b[0m \u001b[0mself\u001b[0m\u001b[0;34m.\u001b[0m\u001b[0mis_centroid_close\u001b[0m\u001b[0;34m(\u001b[0m\u001b[0msecond_comp\u001b[0m\u001b[0;34m,\u001b[0m \u001b[0mcentroid_t\u001b[0m\u001b[0;34m)\u001b[0m\u001b[0;34m:\u001b[0m\u001b[0;34m\u001b[0m\u001b[0m\n\u001b[0;32m--> 297\u001b[0;31m             \u001b[0;32mreturn\u001b[0m \u001b[0mself\u001b[0m\u001b[0;34m.\u001b[0m\u001b[0mis_contour_close\u001b[0m\u001b[0;34m(\u001b[0m\u001b[0msecond_comp\u001b[0m\u001b[0;34m,\u001b[0m \u001b[0mcontour_t\u001b[0m\u001b[0;34m)\u001b[0m\u001b[0;34m\u001b[0m\u001b[0m\n\u001b[0m\u001b[1;32m    298\u001b[0m         \u001b[0;32melse\u001b[0m\u001b[0;34m:\u001b[0m\u001b[0;34m\u001b[0m\u001b[0m\n\u001b[1;32m    299\u001b[0m             \u001b[0;32mreturn\u001b[0m \u001b[0;32mFalse\u001b[0m\u001b[0;34m,\u001b[0m \u001b[0;32mNone\u001b[0m\u001b[0;34m\u001b[0m\u001b[0m\n",
      "\u001b[0;32m~/Code/Python/MashaBioOR/notebooks/components_container.py\u001b[0m in \u001b[0;36mis_contour_close\u001b[0;34m(self, second_comp, thr)\u001b[0m\n\u001b[1;32m    306\u001b[0m         \u001b[0me1\u001b[0m \u001b[0;34m=\u001b[0m \u001b[0mnp\u001b[0m\u001b[0;34m.\u001b[0m\u001b[0marray\u001b[0m\u001b[0;34m(\u001b[0m\u001b[0mself\u001b[0m\u001b[0;34m.\u001b[0m\u001b[0medge\u001b[0m\u001b[0;34m)\u001b[0m\u001b[0;34m\u001b[0m\u001b[0m\n\u001b[1;32m    307\u001b[0m         \u001b[0me2\u001b[0m \u001b[0;34m=\u001b[0m \u001b[0mnp\u001b[0m\u001b[0;34m.\u001b[0m\u001b[0marray\u001b[0m\u001b[0;34m(\u001b[0m\u001b[0msecond_comp\u001b[0m\u001b[0;34m.\u001b[0m\u001b[0medge\u001b[0m\u001b[0;34m)\u001b[0m\u001b[0;34m\u001b[0m\u001b[0m\n\u001b[0;32m--> 308\u001b[0;31m         \u001b[0;32mreturn\u001b[0m \u001b[0medges_close\u001b[0m\u001b[0;34m(\u001b[0m\u001b[0me1\u001b[0m\u001b[0;34m[\u001b[0m\u001b[0;34m:\u001b[0m\u001b[0;34m,\u001b[0m \u001b[0;36m0\u001b[0m\u001b[0;34m]\u001b[0m\u001b[0;34m,\u001b[0m \u001b[0me1\u001b[0m\u001b[0;34m[\u001b[0m\u001b[0;34m:\u001b[0m\u001b[0;34m,\u001b[0m \u001b[0;36m1\u001b[0m\u001b[0;34m]\u001b[0m\u001b[0;34m,\u001b[0m \u001b[0me2\u001b[0m\u001b[0;34m[\u001b[0m\u001b[0;34m:\u001b[0m\u001b[0;34m,\u001b[0m \u001b[0;36m0\u001b[0m\u001b[0;34m]\u001b[0m\u001b[0;34m,\u001b[0m \u001b[0me2\u001b[0m\u001b[0;34m[\u001b[0m\u001b[0;34m:\u001b[0m\u001b[0;34m,\u001b[0m \u001b[0;36m1\u001b[0m\u001b[0;34m]\u001b[0m\u001b[0;34m,\u001b[0m \u001b[0mthr\u001b[0m\u001b[0;34m)\u001b[0m\u001b[0;34m\u001b[0m\u001b[0m\n\u001b[0m\u001b[1;32m    309\u001b[0m \u001b[0;34m\u001b[0m\u001b[0m\n\u001b[1;32m    310\u001b[0m     \u001b[0;32mdef\u001b[0m \u001b[0mis_nucleus\u001b[0m\u001b[0;34m(\u001b[0m\u001b[0mself\u001b[0m\u001b[0;34m)\u001b[0m\u001b[0;34m:\u001b[0m\u001b[0;34m\u001b[0m\u001b[0m\n",
      "\u001b[0;31mKeyboardInterrupt\u001b[0m: "
     ]
    }
   ],
   "source": [
    "#LOADPATH = '../raw_pics/hippo/с4_6_73'\n",
    "process_dir(LOADPATH)"
   ]
  },
  {
   "cell_type": "code",
   "execution_count": 13,
   "metadata": {},
   "outputs": [],
   "source": [
    "# testing\n",
    "\n",
    "img = cv2.imread('../raw_pics/test.bmp')\n",
    "gray = cv2.cvtColor(img, cv2.COLOR_BGR2GRAY)\n",
    "ret, binary = cv2.threshold(gray, BACKGROUND_INTENSITY_THRESHOLD, 400, cv2.THRESH_BINARY)\n",
    "container = ComponentsContainer(binary, MIN_AXON_SIZE)\n",
    "container.merge_components_closer_than(PREMERGE_CENTROIDS_DISTANCE_T, PREMERGE_CONTOUR_DISTANCE_T)\n",
    "container.recalc_edge_and_size_info()    \n",
    "container.split_nucl_axon(MIN_NUCLEUS_SIZE)\n",
    "container.add_hull_info_to_nucleus()\n",
    "container.group_axons_to_nucleus(CENTROIDS_DISTANCE_T, CONTOUR_DISTANCE_T)"
   ]
  },
  {
   "cell_type": "code",
   "execution_count": 16,
   "metadata": {},
   "outputs": [
    {
     "data": {
      "text/plain": [
       "True"
      ]
     },
     "execution_count": 16,
     "metadata": {},
     "output_type": "execute_result"
    }
   ],
   "source": [
    "pic = container.get_nucl_and_axons_img(draw_axons=True, colors = {\n",
    "                'nucl' : [116, 188, 18],\n",
    "                'axon' : [165, 16, 100],\n",
    "                'hull' : [4, 23, 4]\n",
    "            })\n",
    "cv2.imwrite('../test.bmp',pic)\n"
   ]
  },
  {
   "cell_type": "code",
   "execution_count": null,
   "metadata": {},
   "outputs": [],
   "source": []
  }
 ],
 "metadata": {
  "kernelspec": {
   "display_name": "Python 3",
   "language": "python",
   "name": "python3"
  },
  "language_info": {
   "codemirror_mode": {
    "name": "ipython",
    "version": 3
   },
   "file_extension": ".py",
   "mimetype": "text/x-python",
   "name": "python",
   "nbconvert_exporter": "python",
   "pygments_lexer": "ipython3",
   "version": "3.6.1"
  }
 },
 "nbformat": 4,
 "nbformat_minor": 1
}
