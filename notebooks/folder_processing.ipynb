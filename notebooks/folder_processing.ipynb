{
 "cells": [
  {
   "cell_type": "code",
   "execution_count": 1,
   "metadata": {},
   "outputs": [],
   "source": [
    "# jupyter-notebook V0_1_1.ipynb --port 8888 --ip 192.168.1.5\n",
    "\n",
    "import cv2\n",
    "import os\n",
    "import numpy as np\n",
    "from collections import Counter\n",
    "import itertools  \n",
    "from collections import defaultdict\n",
    "import time\n",
    "import numba as nb\n",
    "import copy\n",
    "from os import listdir, mkdir\n",
    "from os.path import isfile, isdir, join\n",
    "from tqdm import tqdm_notebook\n",
    "\n",
    "from components_container import ComponentsContainer\n",
    "\n",
    "%matplotlib inline"
   ]
  },
  {
   "cell_type": "code",
   "execution_count": 2,
   "metadata": {},
   "outputs": [],
   "source": [
    "# filter all noise using minimum size threshold\n",
    "BACKGROUND_INTENSITY_THRESHOLD = 20\n",
    "MIN_AXON_SIZE = 20\n",
    "\n",
    "# merging close components based on centroids and contour distance\n",
    "PREMERGE_CENTROIDS_DISTANCE_T  = 200\n",
    "PREMERGE_CONTOUR_DISTANCE_T = 15\n",
    "\n",
    "#splitting nucleus and axons based on size\n",
    "MIN_NUCLEUS_SIZE = 150\n",
    "\n",
    "#grouping possible axons to nucleus\n",
    "CENTROIDS_DISTANCE_T = 90\n",
    "CONTOUR_DISTANCE_T = 25\n",
    "\n",
    "LOADPATH = '../raw_pics'\n",
    "SAVEPATH = '../info'\n",
    "FORMAT = '.bmp'\n",
    "RECURSIVE = True"
   ]
  },
  {
   "cell_type": "code",
   "execution_count": 3,
   "metadata": {},
   "outputs": [],
   "source": [
    "def mirror_dir_for_save(loadpath):\n",
    "    try:\n",
    "        mkdir(loadpath.replace(LOADPATH, SAVEPATH))\n",
    "    except(OSError):\n",
    "        pass\n",
    "    \n",
    "def process_dir(loadpath):\n",
    "    mirror_dir_for_save(loadpath)\n",
    "    object_names_in_folder = listdir(loadpath)\n",
    "    print (\"start processing folder {} pics: {}\".format(loadpath, str(len(object_names_in_folder))))\n",
    "    for f in tqdm_notebook(object_names_in_folder):\n",
    "        local_object = join(loadpath, f)\n",
    "\n",
    "        if isfile(local_object) and f[0] != '.':\n",
    "            process_pic(join(loadpath, f))\n",
    "            continue\n",
    "\n",
    "        if RECURSIVE and isdir(join(loadpath, f)):\n",
    "            process_dir(join(loadpath, f))\n",
    "            continue\n",
    "\n",
    "def process_pic(path):\n",
    "    starttime = time.time()\n",
    "    print(\"processing pic {} ... \".format(path), end = \"\")\n",
    "    img = cv2.imread(path)\n",
    "    gray = cv2.cvtColor(img, cv2.COLOR_BGR2GRAY)\n",
    "    ret, binary = cv2.threshold(gray, BACKGROUND_INTENSITY_THRESHOLD, 400, cv2.THRESH_BINARY)\n",
    "    container = ComponentsContainer(binary, MIN_AXON_SIZE)\n",
    "    container.merge_components_closer_than(PREMERGE_CENTROIDS_DISTANCE_T, PREMERGE_CONTOUR_DISTANCE_T)\n",
    "    container.recalc_edge_and_size_info()    \n",
    "    container.split_nucl_axon(MIN_NUCLEUS_SIZE)\n",
    "    container.add_hull_info_to_nucleus()\n",
    "    container.group_axons_to_nucleus(CENTROIDS_DISTANCE_T, CONTOUR_DISTANCE_T)\n",
    "    with open(path.replace(LOADPATH, SAVEPATH).replace(FORMAT, \".txt\"), \"w\") as f:\n",
    "        write_info_from_container(container, f)\n",
    "    save_pic_from_container(container,img, path.replace(LOADPATH, SAVEPATH).replace(FORMAT, \"_processed.png\"))\n",
    "    print('done in {} sec.'.format(time.time() - starttime))\n",
    "\n",
    "\n",
    "def write_info_from_container(container, f):\n",
    "    labs = sorted(container.nucleus_labs, key = lambda x: -container.components_index.get(x).size)\n",
    "    f.write(\"#, Size, HullSize, Perimeter\\n\")\n",
    "    i = 0\n",
    "    for nucl_lab in labs:\n",
    "        i +=1\n",
    "        nucl = container.components_index.get(nucl_lab)\n",
    "        f.write(\"{:2}, {:4}, {:4}, {:4}\\n\".format(i, nucl.size, nucl.hull_size, len(nucl.edge)))\n",
    "        \n",
    "def save_pic_from_container(container,img, savepath):\n",
    "    pic = enhance_img_with_container(img, container)\n",
    "    cv2.imwrite(savepath,pic)\n",
    "    \n",
    "def enhance_img_with_container(img, container):\n",
    "    edge_color = [200,200,0]\n",
    "    hull_color = [200,200,200]\n",
    "    for nucl_lab in container.nucleus_labs:           \n",
    "        hull = np.array(container.components_index.get(nucl_lab).hull, np.int32)\n",
    "        hull.reshape((-1,1,2))\n",
    "        hull = hull[:,::-1]\n",
    "        cv2.polylines(img, [hull],True, hull_color)\n",
    "\n",
    "        for ed in container.components_index.get(nucl_lab).edge:\n",
    "            img[ed[0], ed[1]] = edge_color\n",
    "    return img"
   ]
  },
  {
   "cell_type": "code",
   "execution_count": 4,
   "metadata": {
    "scrolled": true
   },
   "outputs": [
    {
     "name": "stdout",
     "output_type": "stream",
     "text": [
      "start processing folder ../raw_pics pics: 3\n"
     ]
    },
    {
     "data": {
      "application/vnd.jupyter.widget-view+json": {
       "model_id": "3cd4431b440f4e539e03ca16b9077a98",
       "version_major": 2,
       "version_minor": 0
      },
      "text/plain": [
       "HBox(children=(IntProgress(value=0, max=3), HTML(value='')))"
      ]
     },
     "metadata": {},
     "output_type": "display_data"
    },
    {
     "name": "stdout",
     "output_type": "stream",
     "text": [
      "processing pic ../raw_pics/t.bmp ... done in 6.692409038543701 sec.\n",
      "start processing folder ../raw_pics/mic pics: 5\n"
     ]
    },
    {
     "data": {
      "application/vnd.jupyter.widget-view+json": {
       "model_id": "9fa7c3927ec942feb0aa2b9327c3933a",
       "version_major": 2,
       "version_minor": 0
      },
      "text/plain": [
       "HBox(children=(IntProgress(value=0, max=5), HTML(value='')))"
      ]
     },
     "metadata": {},
     "output_type": "display_data"
    },
    {
     "name": "stdout",
     "output_type": "stream",
     "text": [
      "start processing folder ../raw_pics/mic/®≠‚ pics: 5\n"
     ]
    },
    {
     "data": {
      "application/vnd.jupyter.widget-view+json": {
       "model_id": "39d4ca78bac34c80baaa386d05b98d5f",
       "version_major": 2,
       "version_minor": 0
      },
      "text/plain": [
       "HBox(children=(IntProgress(value=0, max=5), HTML(value='')))"
      ]
     },
     "metadata": {},
     "output_type": "display_data"
    },
    {
     "name": "stdout",
     "output_type": "stream",
     "text": [
      "processing pic ../raw_pics/mic/®≠‚/int_2_29_z4.bmp ... done in 3.2808139324188232 sec.\n",
      "processing pic ../raw_pics/mic/®≠‚/56_int_iba_cortex_5z.bmp ... done in 3.2081170082092285 sec.\n",
      "processing pic ../raw_pics/mic/®≠‚/56_int_iba_cortex_left_3z.bmp ... done in 3.9563450813293457 sec.\n",
      "processing pic ../raw_pics/mic/®≠‚/int74_iba_cortex_04z.bmp ... done in 3.124133825302124 sec.\n",
      "processing pic ../raw_pics/mic/®≠‚/int_2_29_left_z4.bmp ... done in 3.171689033508301 sec.\n",
      "start processing folder ../raw_pics/mic/Ø‡ÆØ„·‚®´† pics: 8\n"
     ]
    },
    {
     "data": {
      "application/vnd.jupyter.widget-view+json": {
       "model_id": "9354172fec464aa59dddd82159e7240f",
       "version_major": 2,
       "version_minor": 0
      },
      "text/plain": [
       "HBox(children=(IntProgress(value=0, max=8), HTML(value='')))"
      ]
     },
     "metadata": {},
     "output_type": "display_data"
    },
    {
     "name": "stdout",
     "output_type": "stream",
     "text": [
      "processing pic ../raw_pics/mic/Ø‡ÆØ„·‚®´†/k10_4_7_z3_left.bmp ... done in 5.991887092590332 sec.\n",
      "processing pic ../raw_pics/mic/Ø‡ÆØ„·‚®´†/k10_4_7_z2_left.bmp ... done in 5.246365308761597 sec.\n",
      "processing pic ../raw_pics/mic/Ø‡ÆØ„·‚®´†/k10_4_7_z4_left.bmp ... done in 4.845431089401245 sec.\n",
      "processing pic ../raw_pics/mic/Ø‡ÆØ„·‚®´†/c4_7_19_z1.bmp ... done in 3.2946081161499023 sec.\n",
      "processing pic ../raw_pics/mic/Ø‡ÆØ„·‚®´†/k10_4_7_z1_left.bmp ... done in 6.301081895828247 sec.\n",
      "processing pic ../raw_pics/mic/Ø‡ÆØ„·‚®´†/k10_4_7_z1.bmp ... done in 7.26819920539856 sec.\n",
      "processing pic ../raw_pics/mic/Ø‡ÆØ„·‚®´†/k10_4_7_z3.bmp ... done in 4.806024074554443 sec.\n",
      "processing pic ../raw_pics/mic/Ø‡ÆØ„·‚®´†/k10_4_7_z2.bmp ... done in 8.176453113555908 sec.\n",
      "start processing folder ../raw_pics/mic/4 §•≠Ï pics: 8\n"
     ]
    },
    {
     "data": {
      "application/vnd.jupyter.widget-view+json": {
       "model_id": "6fe50cb4e8f0466ead93ea25d6abda34",
       "version_major": 2,
       "version_minor": 0
      },
      "text/plain": [
       "HBox(children=(IntProgress(value=0, max=8), HTML(value='')))"
      ]
     },
     "metadata": {},
     "output_type": "display_data"
    },
    {
     "name": "stdout",
     "output_type": "stream",
     "text": [
      "processing pic ../raw_pics/mic/4 §•≠Ï/c4-_06_73_iba_left_cortex_4z.bmp ... done in 4.7629101276397705 sec.\n",
      "processing pic ../raw_pics/mic/4 §•≠Ï/·4_7_19__left_z4.bmp ... done in 4.843962907791138 sec.\n",
      "processing pic ../raw_pics/mic/4 §•≠Ï/k4_01_19_05z.bmp ... done in 5.522763013839722 sec.\n",
      "processing pic ../raw_pics/mic/4 §•≠Ï/c4-ba-cortex_4z.bmp ... done in 4.105391979217529 sec.\n",
      "processing pic ../raw_pics/mic/4 §•≠Ï/·4_7_19_z4.bmp ... done in 3.7690329551696777 sec.\n",
      "processing pic ../raw_pics/mic/4 §•≠Ï/k4_01_19_-ba-cortex_left_4z.bmp ... done in 4.638715028762817 sec.\n",
      "processing pic ../raw_pics/mic/4 §•≠Ï/c4-_06_73_ba-cortex_4z.bmp ... done in 4.19585108757019 sec.\n",
      "processing pic ../raw_pics/mic/4 §•≠Ï/k4_cortex_5_59_03.bmp ... done in 4.86192512512207 sec.\n",
      "start processing folder ../raw_pics/mic/10 §•≠Ï pics: 8\n"
     ]
    },
    {
     "data": {
      "application/vnd.jupyter.widget-view+json": {
       "model_id": "217cf206c1dc4176b6740d433cb5d2e0",
       "version_major": 2,
       "version_minor": 0
      },
      "text/plain": [
       "HBox(children=(IntProgress(value=0, max=8), HTML(value='')))"
      ]
     },
     "metadata": {},
     "output_type": "display_data"
    },
    {
     "name": "stdout",
     "output_type": "stream",
     "text": [
      "processing pic ../raw_pics/mic/10 §•≠Ï/k10-3-10_ssc_left_4.bmp ... done in 4.086129188537598 sec.\n",
      "processing pic ../raw_pics/mic/10 §•≠Ï/k10-3-10_ssc-4.bmp ... done in 4.2251060009002686 sec.\n",
      "processing pic ../raw_pics/mic/10 §•≠Ï/c10-1-36-ssc-left_5.bmp ... done in 3.9894490242004395 sec.\n",
      "processing pic ../raw_pics/mic/10 §•≠Ï/c10_1_2_13_left_z3.bmp ... done in 4.494156837463379 sec.\n",
      "processing pic ../raw_pics/mic/10 §•≠Ï/c10-1-36-ssc-4.bmp ... done in 4.393156051635742 sec.\n",
      "processing pic ../raw_pics/mic/10 §•≠Ï/k10-2-20-ssc-left-4.bmp ... done in 4.55355978012085 sec.\n",
      "processing pic ../raw_pics/mic/10 §•≠Ï/k10_4_7_z3.bmp ... done in 5.593055009841919 sec.\n",
      "processing pic ../raw_pics/mic/10 §•≠Ï/k10-2-20-ssc-3.bmp ... done in 7.159821033477783 sec.\n",
      "\n"
     ]
    }
   ],
   "source": [
    "#LOADPATH = '../raw_pics/hippo/с4_6_73'\n",
    "process_dir(LOADPATH)"
   ]
  },
  {
   "cell_type": "code",
   "execution_count": 39,
   "metadata": {},
   "outputs": [],
   "source": [
    "# testing\n",
    "from matplotlib import pyplot as plt\n",
    "img = cv2.imread('../raw_pics/71.tif')\n",
    "gray = cv2.cvtColor(img, cv2.COLOR_BGR2GRAY)\n",
    "r = gray.ravel()\n",
    "\n",
    "r = r[r>15]"
   ]
  },
  {
   "cell_type": "code",
   "execution_count": 40,
   "metadata": {},
   "outputs": [
    {
     "data": {
      "text/plain": [
       "(array([319292., 133758., 113076.,  62331.,  54441.,  38022.,  26760.,\n",
       "         16088.,  15276.,   9549.,  11279.,   7186.,   4837.,   5159.,\n",
       "          3529.,   4547.,   2644.,   2900.,   2088.,   2434.,   2273.,\n",
       "          2021.,   1459.,   1695.,   1586.,   1442.,   1350.,   1040.,\n",
       "          1310.,    900.,   1341.,    900.,   1019.,    752.,    961.,\n",
       "          1069.,    669.,    732.,    630.,    757.,    723.,    648.,\n",
       "           514.,    632.,    476.,    599.,    427.,    497.,    474.,\n",
       "          6605.]),\n",
       " array([ 16. ,  20.2,  24.4,  28.6,  32.8,  37. ,  41.2,  45.4,  49.6,\n",
       "         53.8,  58. ,  62.2,  66.4,  70.6,  74.8,  79. ,  83.2,  87.4,\n",
       "         91.6,  95.8, 100. , 104.2, 108.4, 112.6, 116.8, 121. , 125.2,\n",
       "        129.4, 133.6, 137.8, 142. , 146.2, 150.4, 154.6, 158.8, 163. ,\n",
       "        167.2, 171.4, 175.6, 179.8, 184. , 188.2, 192.4, 196.6, 200.8,\n",
       "        205. , 209.2, 213.4, 217.6, 221.8, 226. ]),\n",
       " <a list of 50 Patch objects>)"
      ]
     },
     "execution_count": 40,
     "metadata": {},
     "output_type": "execute_result"
    },
    {
     "data": {
      "image/png": "[encoded data removed]",
      "text/plain": [
       "<Figure size 432x288 with 3 Axes>"
      ]
     },
     "metadata": {
      "needs_background": "light"
     },
     "output_type": "display_data"
    }
   ],
   "source": [
    "plt.subplot(3,1,1)\n",
    "plt.hist(r, bins = 50)\n",
    "img = cv2.imread('../raw_pics/49.tif')\n",
    "gray = cv2.cvtColor(img, cv2.COLOR_BGR2GRAY)\n",
    "r = gray.ravel()\n",
    "\n",
    "r = r[r>15]\n",
    "plt.subplot(3,1,2)\n",
    "plt.hist(r, bins = 50)\n",
    "img = cv2.imread('../raw_pics/33.tif')\n",
    "gray = cv2.cvtColor(img, cv2.COLOR_BGR2GRAY)\n",
    "r = gray.ravel()\n",
    "\n",
    "r = r[r>15]\n",
    "plt.subplot(3,1,3)\n",
    "plt.hist(r, bins = 50)"
   ]
  },
  {
   "cell_type": "code",
   "execution_count": 22,
   "metadata": {},
   "outputs": [
    {
     "data": {
      "text/plain": [
       "True"
      ]
     },
     "execution_count": 22,
     "metadata": {},
     "output_type": "execute_result"
    }
   ],
   "source": [
    "pic = enhance_img_with_container(img, container)\n",
    "cv2.imwrite('../test.png',pic)\n"
   ]
  },
  {
   "cell_type": "code",
   "execution_count": 21,
   "metadata": {},
   "outputs": [],
   "source": []
  },
  {
   "cell_type": "code",
   "execution_count": null,
   "metadata": {},
   "outputs": [],
   "source": []
  }
 ],
 "metadata": {
  "kernelspec": {
   "display_name": "Python 3",
   "language": "python",
   "name": "python3"
  },
  "language_info": {
   "codemirror_mode": {
    "name": "ipython",
    "version": 3
   },
   "file_extension": ".py",
   "mimetype": "text/x-python",
   "name": "python",
   "nbconvert_exporter": "python",
   "pygments_lexer": "ipython3",
   "version": "3.7.1"
  }
 },
 "nbformat": 4,
 "nbformat_minor": 1
}
